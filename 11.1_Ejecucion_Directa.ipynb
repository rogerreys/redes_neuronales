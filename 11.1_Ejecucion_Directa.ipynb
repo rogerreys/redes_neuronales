{
 "cells": [
  {
   "cell_type": "code",
   "execution_count": 1,
   "metadata": {},
   "outputs": [],
   "source": [
    "import numpy as np\n",
    "import matplotlib.pyplot as plt\n",
    "from keras.datasets import imdb\n",
    "from keras import models, layers, optimizers"
   ]
  },
  {
   "cell_type": "code",
   "execution_count": 2,
   "metadata": {},
   "outputs": [],
   "source": [
    "(train_data, train_labels), (test_data, test_labels) = imdb.load_data(num_words=10000)\n",
    "\n",
    "def vectorizar(sequences, dim=10000):\n",
    "    result = np.zeros((len(sequences), dim))\n",
    "    for i, sequences in enumerate(sequences):\n",
    "        result[i, sequences]=1\n",
    "    return result \n",
    "\n",
    "x_train = vectorizar(train_data)\n",
    "x_test = vectorizar(test_data)\n",
    "\n",
    "y_train = np.asarray(train_labels).astype('float32')\n",
    "y_test = np.asarray(test_labels).astype('float32')\n",
    "\n",
    "# Entrenamiento\n",
    "# Validacion\n",
    "x_val = x_train[:10000]\n",
    "partial_x_val = x_train[10000:]\n",
    "\n",
    "y_val = y_train[:10000]\n",
    "partial_y_val = y_train[10000:]"
   ]
  },
  {
   "cell_type": "code",
   "execution_count": 4,
   "metadata": {},
   "outputs": [
    {
     "name": "stdout",
     "output_type": "stream",
     "text": [
      "Epoch 1/4\n",
      "30/30 [==============================] - 2s 30ms/step - loss: 0.6114 - acc: 0.6711 - val_loss: 0.5038 - val_acc: 0.8557\n",
      "Epoch 2/4\n",
      "30/30 [==============================] - 0s 15ms/step - loss: 0.4828 - acc: 0.7966 - val_loss: 0.3871 - val_acc: 0.8706\n",
      "Epoch 3/4\n",
      "30/30 [==============================] - 0s 15ms/step - loss: 0.3963 - acc: 0.8444 - val_loss: 0.3294 - val_acc: 0.8816\n",
      "Epoch 4/4\n",
      "30/30 [==============================] - 0s 14ms/step - loss: 0.3414 - acc: 0.8732 - val_loss: 0.2960 - val_acc: 0.8852\n",
      "epoch: \n",
      " [1 2 3 4]\n",
      "loss_values: \n",
      " [0.611447811126709, 0.48279404640197754, 0.3963359594345093, 0.3413729965686798]\n"
     ]
    },
    {
     "data": {
      "text/plain": [
       "[<matplotlib.lines.Line2D at 0x1f35ced1fa0>]"
      ]
     },
     "execution_count": 4,
     "metadata": {},
     "output_type": "execute_result"
    },
    {
     "ename": "",
     "evalue": "",
     "output_type": "error",
     "traceback": [
      "\u001b[1;31mCannot execute code, session has been disposed. Please try restarting the Kernel."
     ]
    },
    {
     "ename": "",
     "evalue": "",
     "output_type": "error",
     "traceback": [
      "\u001b[1;31mThe Kernel crashed while executing code in the the current cell or a previous cell. Please review the code in the cell(s) to identify a possible cause of the failure. Click <a href='https://aka.ms/vscodeJupyterKernelCrash'>here</a> for more info. View Jupyter <a href='command:jupyter.viewOutput'>log</a> for further details."
     ]
    }
   ],
   "source": [
    "model1 = models.Sequential()\n",
    "# Creacion de neuronas\n",
    "model1.add(layers.Dense(16, activation=\"relu\", input_shape=(10000,)))\n",
    "model1.add(layers.Dropout(0.5)) # Desactivamos el 50%\n",
    "model1.add(layers.Dense(16, activation=\"relu\"))\n",
    "model1.add(layers.Dropout(0.5)) # Desactivamos el 50%\n",
    "model1.add(layers.Dense(1, activation=\"sigmoid\"))\n",
    "\n",
    "# Compilacion\n",
    "model1.compile(optimizer='rmsprop',          # rmsprop: descenso de gradiente mejorada\n",
    "              loss='binary_crossentropy',   # Funcion de perdida\n",
    "              metrics = ['acc'])            # Metrica de exito\n",
    "\n",
    "# Entrenamiento de modelo\n",
    "history1 = model1.fit(partial_x_val, partial_y_val, \n",
    "                    epochs=4,                       # Iteraciones\n",
    "                    batch_size=512,                 # lotes de datos\n",
    "                    validation_data=(x_val, y_val))\n",
    "\n",
    "history_dict = history1.history\n",
    "loss_values = history_dict['loss']\n",
    "val_loss_values = history_dict['val_loss']\n",
    "val_loss_values1 = history1.history['val_loss']\n",
    "\n",
    "epoch = np.array(range(1, len(loss_values)+1))\n",
    "print(\"epoch: \\n\", epoch)\n",
    "print(\"loss_values: \\n\", loss_values)\n",
    "plt.plot(epoch, np.array(loss_values), 'o') #, label='training')\n",
    "# plt.plot(epoch,val_loss_values, 'x',label='origin')\n",
    "# plt.plot(epoch,val_loss_values1, '-',label='dropout')\n",
    "# plt.legend()\n",
    "# plt.show()"
   ]
  },
  {
   "cell_type": "code",
   "execution_count": null,
   "metadata": {},
   "outputs": [],
   "source": []
  }
 ],
 "metadata": {
  "kernelspec": {
   "display_name": "py39",
   "language": "python",
   "name": "python3"
  },
  "language_info": {
   "codemirror_mode": {
    "name": "ipython",
    "version": 3
   },
   "file_extension": ".py",
   "mimetype": "text/x-python",
   "name": "python",
   "nbconvert_exporter": "python",
   "pygments_lexer": "ipython3",
   "version": "3.9.16"
  },
  "orig_nbformat": 4
 },
 "nbformat": 4,
 "nbformat_minor": 2
}
