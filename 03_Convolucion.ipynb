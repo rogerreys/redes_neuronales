{
 "cells": [
  {
   "cell_type": "markdown",
   "metadata": {},
   "source": [
    "# Convolucion\n",
    "\n",
    "<img src=\"src/img/convolucion.png\" width=\"500\"><br>\n",
    "<img src=\"src/img/borde_vertical.png\" width=\"500\">\n",
    "\n",
    "\n",
    "# Setosa\n",
    "Ejemplos de convolucion en imagenes <a src=\"https://setosa.io/ev/image-kernels/\">Ver ...</a> \n"
   ]
  },
  {
   "cell_type": "markdown",
   "metadata": {},
   "source": [
    "# Kernel en accion"
   ]
  }
 ],
 "metadata": {
  "language_info": {
   "name": "python"
  },
  "orig_nbformat": 4
 },
 "nbformat": 4,
 "nbformat_minor": 2
}
