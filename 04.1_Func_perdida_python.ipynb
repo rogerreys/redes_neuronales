{
 "cells": [
  {
   "cell_type": "code",
   "execution_count": 1,
   "metadata": {},
   "outputs": [],
   "source": [
    "import numpy as np\n",
    "import matplotlib.pyplot as plt"
   ]
  },
  {
   "cell_type": "code",
   "execution_count": 6,
   "metadata": {},
   "outputs": [
    {
     "data": {
      "text/plain": [
       "array([ 0.9,  0.5, -0.8, -1. ,  0.5])"
      ]
     },
     "execution_count": 6,
     "metadata": {},
     "output_type": "execute_result"
    }
   ],
   "source": [
    "def mse(y_act,y_pred, derivate=False):\n",
    "    if derivate:\n",
    "        # Derivar es para optimizar\n",
    "        return y_pred - y_act\n",
    "    return np.mean((y_pred - y_act)**2)\n",
    "\n",
    "real = np.array([0,0,1,1,0])\n",
    "predictin = np.array([0.9,0.5,0.2,0.0,0.5])\n",
    "# predictin = np.array([0.1,0.2,0.99,0.98,0.2])\n",
    "\n",
    "mse(real, predictin, True)"
   ]
  }
 ],
 "metadata": {
  "kernelspec": {
   "display_name": "py39",
   "language": "python",
   "name": "python3"
  },
  "language_info": {
   "codemirror_mode": {
    "name": "ipython",
    "version": 3
   },
   "file_extension": ".py",
   "mimetype": "text/x-python",
   "name": "python",
   "nbconvert_exporter": "python",
   "pygments_lexer": "ipython3",
   "version": "3.9.16"
  },
  "orig_nbformat": 4
 },
 "nbformat": 4,
 "nbformat_minor": 2
}
