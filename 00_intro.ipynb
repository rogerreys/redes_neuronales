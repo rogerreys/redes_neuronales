{
 "cells": [
  {
   "attachments": {},
   "cell_type": "markdown",
   "metadata": {},
   "source": [
    "# Herramientas\n",
    "Las herramientas más conocidas para manejar redes neuronalnes son TensorFlow y PyTorch.\n",
    "\n",
    "Keras es una API, se utiliza para facilitar el consumo del backend.\n",
    "\n",
    "Utilizaremos la tarjeta GPU, porque permite procesas más datos matemáticos necesarios en el deep learning.\n",
    "\n",
    "\n",
    "# ¿Qué es deep learning?\n",
    "La inteligencia artificial son los intentos de replicar la inteligencia humana en sistemas artificiales.\n",
    "\n",
    "Machine learning son las técnicas de aprendizaje automático, en donde mismo sistema aprende como encontrar una respuesta sin que alguien lo este programando.\n",
    "\n",
    "Deep learning es todo lo relacionado a las redes neuronales. Se llama aprendizaje profundo porque a mayor capas conectadas ente sí se obtiene un aprendizaje más fino.\n",
    "\n",
    "En el Deep learning existen dos grandes problemas:\n",
    "\n",
    "**Overfitting:** Es cuando el algoritmo “memoriza” los datos y la red neuronal no sabe generalizar.\n",
    "\n",
    "**Caja negra:** Nosotros conocemos las entradas a las redes neuronales. Sin embargo, no conocemos que es lo que pasa dentro de las capas intermedias de la red.\n"
   ]
  }
 ],
 "metadata": {
  "language_info": {
   "name": "python"
  },
  "orig_nbformat": 4
 },
 "nbformat": 4,
 "nbformat_minor": 2
}
