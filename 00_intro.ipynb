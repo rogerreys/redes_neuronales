{
 "cells": [
  {
   "cell_type": "markdown",
   "metadata": {},
   "source": [
    "# ¿Que son las redes convolucionales?\n",
    "\n",
    "- RN especializada en el reconocimiento de imagenes\n",
    "\n",
    "- Intenta simular el comportamiento de la corteza visual de nuestro cerebro\n",
    "\n",
    "## Como vemos los humanos?\n",
    "- Deteminamos formas, colores y tamaño"
   ]
  }
 ],
 "metadata": {
  "language_info": {
   "name": "python"
  },
  "orig_nbformat": 4
 },
 "nbformat": 4,
 "nbformat_minor": 2
}
