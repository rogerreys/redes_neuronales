{
 "cells": [
  {
   "attachments": {},
   "cell_type": "markdown",
   "metadata": {},
   "source": [
    "# Playground Tensorflow\n",
    "https://playground.tensorflow.org/\n",
    "\n",
    "<img src=\"src/img/payground1.png\">\n",
    "\n",
    "<img src=\"src/img/payground2.png\">"
   ]
  }
 ],
 "metadata": {
  "language_info": {
   "name": "python"
  },
  "orig_nbformat": 4
 },
 "nbformat": 4,
 "nbformat_minor": 2
}
