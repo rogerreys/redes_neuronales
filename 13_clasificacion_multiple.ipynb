{
 "cells": [
  {
   "cell_type": "code",
   "execution_count": 12,
   "metadata": {},
   "outputs": [],
   "source": [
    "import numpy as np\n",
    "from keras import layers, models\n",
    "from keras.datasets import reuters\n",
    "import matplotlib.pyplot as plt"
   ]
  },
  {
   "cell_type": "markdown",
   "metadata": {},
   "source": [
    "# Obtener datos"
   ]
  },
  {
   "cell_type": "code",
   "execution_count": 2,
   "metadata": {},
   "outputs": [],
   "source": [
    "(train_data, train_labels), (test_data, test_labels) = reuters.load_data(num_words=10000)"
   ]
  },
  {
   "cell_type": "code",
   "execution_count": 3,
   "metadata": {},
   "outputs": [
    {
     "name": "stdout",
     "output_type": "stream",
     "text": [
      "None\n",
      "None\n",
      "None\n",
      "said\n",
      "as\n",
      "a\n",
      "result\n",
      "of\n",
      "its\n",
      "december\n",
      "acquisition\n",
      "of\n",
      "space\n",
      "co\n",
      "it\n",
      "expects\n",
      "earnings\n",
      "per\n",
      "share\n",
      "in\n",
      "1987\n",
      "of\n",
      "1\n",
      "15\n",
      "to\n",
      "1\n",
      "30\n",
      "dlrs\n",
      "per\n",
      "share\n",
      "up\n",
      "from\n",
      "70\n",
      "cts\n",
      "in\n",
      "1986\n",
      "the\n",
      "company\n",
      "said\n",
      "pretax\n",
      "net\n",
      "should\n",
      "rise\n",
      "to\n",
      "nine\n",
      "to\n",
      "10\n",
      "mln\n",
      "dlrs\n",
      "from\n",
      "six\n",
      "mln\n",
      "dlrs\n",
      "in\n",
      "1986\n",
      "and\n",
      "rental\n",
      "operation\n",
      "revenues\n",
      "to\n",
      "19\n",
      "to\n",
      "22\n",
      "mln\n",
      "dlrs\n",
      "from\n",
      "12\n",
      "5\n",
      "mln\n",
      "dlrs\n",
      "it\n",
      "said\n",
      "cash\n",
      "flow\n",
      "per\n",
      "share\n",
      "this\n",
      "year\n",
      "should\n",
      "be\n",
      "2\n",
      "50\n",
      "to\n",
      "three\n",
      "dlrs\n",
      "reuter\n",
      "3\n"
     ]
    }
   ],
   "source": [
    "word_index = reuters.get_word_index()\n",
    "word_index = dict([(value, key) for (key, value) in word_index.items()])\n",
    "for _ in train_data[0]:\n",
    "    print(word_index.get(_-3))\n",
    "    # pass"
   ]
  },
  {
   "cell_type": "code",
   "execution_count": 4,
   "metadata": {},
   "outputs": [
    {
     "data": {
      "text/plain": [
       "3"
      ]
     },
     "execution_count": 4,
     "metadata": {},
     "output_type": "execute_result"
    }
   ],
   "source": [
    "train_labels[0]"
   ]
  },
  {
   "cell_type": "markdown",
   "metadata": {},
   "source": [
    "# Transformar datos a tensores"
   ]
  },
  {
   "cell_type": "code",
   "execution_count": 5,
   "metadata": {},
   "outputs": [
    {
     "data": {
      "text/plain": [
       "((8982,), (2246,))"
      ]
     },
     "execution_count": 5,
     "metadata": {},
     "output_type": "execute_result"
    }
   ],
   "source": [
    "train_data.shape, test_data.shape\n",
    "# No son tensores"
   ]
  },
  {
   "cell_type": "code",
   "execution_count": 6,
   "metadata": {},
   "outputs": [
    {
     "data": {
      "text/plain": [
       "((8982, 10000), (2246, 10000))"
      ]
     },
     "execution_count": 6,
     "metadata": {},
     "output_type": "execute_result"
    }
   ],
   "source": [
    "def vectorizar(sequences, dim=10000):\n",
    "    result = np.zeros((len(sequences), dim))\n",
    "    for i, sequences in enumerate(sequences):\n",
    "        result[i, sequences]=1\n",
    "    return result\n",
    "\n",
    "x_train = vectorizar(train_data)\n",
    "x_test = vectorizar(test_data)\n",
    "# Son tensores\n",
    "x_train.shape, x_test.shape"
   ]
  },
  {
   "cell_type": "code",
   "execution_count": 7,
   "metadata": {},
   "outputs": [
    {
     "data": {
      "text/plain": [
       "4"
      ]
     },
     "execution_count": 7,
     "metadata": {},
     "output_type": "execute_result"
    }
   ],
   "source": [
    "from keras.utils import to_categorical\n",
    "train_labels[5]"
   ]
  },
  {
   "cell_type": "code",
   "execution_count": 8,
   "metadata": {},
   "outputs": [
    {
     "data": {
      "text/plain": [
       "array([0., 0., 0., 0., 1., 0., 0., 0., 0., 0., 0., 0., 0., 0., 0., 0., 0.,\n",
       "       0., 0., 0., 0., 0., 0., 0., 0., 0., 0., 0., 0., 0., 0., 0., 0., 0.,\n",
       "       0., 0., 0., 0., 0., 0., 0., 0., 0., 0., 0., 0.], dtype=float32)"
      ]
     },
     "execution_count": 8,
     "metadata": {},
     "output_type": "execute_result"
    }
   ],
   "source": [
    "# Transformar a estructura de tensor\n",
    "y_train = to_categorical(train_labels)\n",
    "y_test = to_categorical(test_labels)\n",
    "y_train[5]"
   ]
  },
  {
   "cell_type": "markdown",
   "metadata": {},
   "source": [
    "# Crear red"
   ]
  },
  {
   "cell_type": "code",
   "execution_count": 9,
   "metadata": {},
   "outputs": [],
   "source": [
    "model1 = models.Sequential()\n",
    "model1.add(layers.Dense(64, activation='relu', input_shape=(10000,)))\n",
    "model1.add(layers.Dense(64, activation='relu', input_shape=(10000,)))\n",
    "model1.add(layers.Dense(46, activation='softmax')) # softmax -> usado para clasificacion multiple\n",
    "\n",
    "model1.compile(optimizer=\"rmsprop\",\n",
    "               loss='categorical_crossentropy',\n",
    "               metrics=['accuracy'])"
   ]
  },
  {
   "cell_type": "code",
   "execution_count": 10,
   "metadata": {},
   "outputs": [],
   "source": [
    "x_val = x_train[:1000]\n",
    "partial_x_train = x_train[1000:]\n",
    "\n",
    "y_val = y_train[:1000]\n",
    "partial_y_train = y_train[1000:]"
   ]
  },
  {
   "cell_type": "code",
   "execution_count": 11,
   "metadata": {},
   "outputs": [
    {
     "name": "stdout",
     "output_type": "stream",
     "text": [
      "Epoch 1/30\n",
      "16/16 [==============================] - 2s 44ms/step - loss: 2.6952 - accuracy: 0.4875 - val_loss: 1.7405 - val_accuracy: 0.6320\n",
      "Epoch 2/30\n",
      "16/16 [==============================] - 0s 21ms/step - loss: 1.4295 - accuracy: 0.7093 - val_loss: 1.3060 - val_accuracy: 0.7140\n",
      "Epoch 3/30\n",
      "16/16 [==============================] - 0s 25ms/step - loss: 1.0633 - accuracy: 0.7734 - val_loss: 1.1534 - val_accuracy: 0.7450\n",
      "Epoch 4/30\n",
      "16/16 [==============================] - 0s 27ms/step - loss: 0.8477 - accuracy: 0.8136 - val_loss: 1.0496 - val_accuracy: 0.7800\n",
      "Epoch 5/30\n",
      "16/16 [==============================] - 0s 26ms/step - loss: 0.6814 - accuracy: 0.8534 - val_loss: 0.9847 - val_accuracy: 0.7880\n",
      "Epoch 6/30\n",
      "16/16 [==============================] - 0s 26ms/step - loss: 0.5444 - accuracy: 0.8879 - val_loss: 0.9487 - val_accuracy: 0.8020\n",
      "Epoch 7/30\n",
      "16/16 [==============================] - 0s 30ms/step - loss: 0.4395 - accuracy: 0.9089 - val_loss: 0.9032 - val_accuracy: 0.8130\n",
      "Epoch 8/30\n",
      "16/16 [==============================] - 0s 24ms/step - loss: 0.3549 - accuracy: 0.9251 - val_loss: 0.9049 - val_accuracy: 0.8110\n",
      "Epoch 9/30\n",
      "16/16 [==============================] - 0s 25ms/step - loss: 0.2924 - accuracy: 0.9382 - val_loss: 0.9007 - val_accuracy: 0.8180\n",
      "Epoch 10/30\n",
      "16/16 [==============================] - 0s 25ms/step - loss: 0.2459 - accuracy: 0.9440 - val_loss: 0.9231 - val_accuracy: 0.8110\n",
      "Epoch 11/30\n",
      "16/16 [==============================] - 0s 26ms/step - loss: 0.2122 - accuracy: 0.9486 - val_loss: 0.9243 - val_accuracy: 0.8170\n",
      "Epoch 12/30\n",
      "16/16 [==============================] - 0s 31ms/step - loss: 0.1830 - accuracy: 0.9511 - val_loss: 0.9370 - val_accuracy: 0.8150\n",
      "Epoch 13/30\n",
      "16/16 [==============================] - 0s 23ms/step - loss: 0.1689 - accuracy: 0.9534 - val_loss: 0.9275 - val_accuracy: 0.8140\n",
      "Epoch 14/30\n",
      "16/16 [==============================] - 0s 24ms/step - loss: 0.1505 - accuracy: 0.9549 - val_loss: 0.9787 - val_accuracy: 0.8160\n",
      "Epoch 15/30\n",
      "16/16 [==============================] - 0s 23ms/step - loss: 0.1375 - accuracy: 0.9568 - val_loss: 1.0090 - val_accuracy: 0.8040\n",
      "Epoch 16/30\n",
      "16/16 [==============================] - 0s 27ms/step - loss: 0.1340 - accuracy: 0.9563 - val_loss: 0.9933 - val_accuracy: 0.8110\n",
      "Epoch 17/30\n",
      "16/16 [==============================] - 0s 24ms/step - loss: 0.1247 - accuracy: 0.9562 - val_loss: 1.0290 - val_accuracy: 0.8140\n",
      "Epoch 18/30\n",
      "16/16 [==============================] - 0s 23ms/step - loss: 0.1159 - accuracy: 0.9574 - val_loss: 1.0530 - val_accuracy: 0.8090\n",
      "Epoch 19/30\n",
      "16/16 [==============================] - 0s 24ms/step - loss: 0.1173 - accuracy: 0.9572 - val_loss: 1.0411 - val_accuracy: 0.8090\n",
      "Epoch 20/30\n",
      "16/16 [==============================] - 0s 25ms/step - loss: 0.1152 - accuracy: 0.9560 - val_loss: 1.1073 - val_accuracy: 0.8090\n",
      "Epoch 21/30\n",
      "16/16 [==============================] - 0s 27ms/step - loss: 0.1066 - accuracy: 0.9578 - val_loss: 1.0966 - val_accuracy: 0.8050\n",
      "Epoch 22/30\n",
      "16/16 [==============================] - 0s 25ms/step - loss: 0.1051 - accuracy: 0.9579 - val_loss: 1.1145 - val_accuracy: 0.8010\n",
      "Epoch 23/30\n",
      "16/16 [==============================] - 0s 23ms/step - loss: 0.1058 - accuracy: 0.9575 - val_loss: 1.1035 - val_accuracy: 0.8040\n",
      "Epoch 24/30\n",
      "16/16 [==============================] - 0s 30ms/step - loss: 0.1054 - accuracy: 0.9578 - val_loss: 1.1650 - val_accuracy: 0.7980\n",
      "Epoch 25/30\n",
      "16/16 [==============================] - 1s 34ms/step - loss: 0.0996 - accuracy: 0.9588 - val_loss: 1.1707 - val_accuracy: 0.7970\n",
      "Epoch 26/30\n",
      "16/16 [==============================] - 0s 24ms/step - loss: 0.1031 - accuracy: 0.9568 - val_loss: 1.1362 - val_accuracy: 0.8050\n",
      "Epoch 27/30\n",
      "16/16 [==============================] - 1s 34ms/step - loss: 0.0968 - accuracy: 0.9559 - val_loss: 1.1450 - val_accuracy: 0.8010\n",
      "Epoch 28/30\n",
      "16/16 [==============================] - 0s 26ms/step - loss: 0.0972 - accuracy: 0.9573 - val_loss: 1.1624 - val_accuracy: 0.8090\n",
      "Epoch 29/30\n",
      "16/16 [==============================] - 0s 25ms/step - loss: 0.0966 - accuracy: 0.9599 - val_loss: 1.1940 - val_accuracy: 0.7960\n",
      "Epoch 30/30\n",
      "16/16 [==============================] - 0s 26ms/step - loss: 0.0972 - accuracy: 0.9579 - val_loss: 1.2350 - val_accuracy: 0.7870\n"
     ]
    }
   ],
   "source": [
    "# Entrenamiento de modelo\n",
    "history = model1.fit(partial_x_train, partial_y_train,\n",
    "                    epochs=30,                          # Iteraciones\n",
    "                    batch_size=512,                     # lotes de datos\n",
    "                    validation_data=(x_val, y_val))"
   ]
  },
  {
   "cell_type": "code",
   "execution_count": 13,
   "metadata": {},
   "outputs": [
    {
     "ename": "",
     "evalue": "",
     "output_type": "error",
     "traceback": [
      "\u001b[1;31mCannot execute code, session has been disposed. Please try restarting the Kernel."
     ]
    },
    {
     "ename": "",
     "evalue": "",
     "output_type": "error",
     "traceback": [
      "\u001b[1;31mThe Kernel crashed while executing code in the the current cell or a previous cell. Please review the code in the cell(s) to identify a possible cause of the failure. Click <a href='https://aka.ms/vscodeJupyterKernelCrash'>here</a> for more info. View Jupyter <a href='command:jupyter.viewOutput'>log</a> for further details."
     ]
    }
   ],
   "source": [
    "history_dict = history.history\n",
    "loss_values = history_dict['loss']\n",
    "val_loss_values = history_dict['val_loss']\n",
    "\n",
    "epoch = range(1, len(history_dict['loss'])+1)\n",
    "plt.plot(epoch, history_dict['loss'], 'o', label='training')\n",
    "plt.plot(epoch, val_loss_values, '--',label='val')\n",
    "plt.legend()\n",
    "plt.show()"
   ]
  }
 ],
 "metadata": {
  "kernelspec": {
   "display_name": "py39",
   "language": "python",
   "name": "python3"
  },
  "language_info": {
   "codemirror_mode": {
    "name": "ipython",
    "version": 3
   },
   "file_extension": ".py",
   "mimetype": "text/x-python",
   "name": "python",
   "nbconvert_exporter": "python",
   "pygments_lexer": "ipython3",
   "version": "3.9.16"
  },
  "orig_nbformat": 4
 },
 "nbformat": 4,
 "nbformat_minor": 2
}
