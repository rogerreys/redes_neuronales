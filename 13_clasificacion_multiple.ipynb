{
  "cells": [
    {
      "cell_type": "code",
      "execution_count": 1,
      "metadata": {
        "id": "fxCTfM8GWJ2m"
      },
      "outputs": [],
      "source": [
        "import numpy as np\n",
        "from keras import layers, models\n",
        "from keras.datasets import reuters\n",
        "import matplotlib.pyplot as plt"
      ]
    },
    {
      "cell_type": "markdown",
      "metadata": {
        "id": "fxQGISt3WJ2o"
      },
      "source": [
        "# Obtener datos"
      ]
    },
    {
      "cell_type": "code",
      "execution_count": 2,
      "metadata": {
        "colab": {
          "base_uri": "https://localhost:8080/"
        },
        "id": "NNYBoHh-WJ2p",
        "outputId": "eee48d9b-abba-49e6-e746-3df9d873eb82"
      },
      "outputs": [
        {
          "output_type": "stream",
          "name": "stdout",
          "text": [
            "Downloading data from https://storage.googleapis.com/tensorflow/tf-keras-datasets/reuters.npz\n",
            "2110848/2110848 [==============================] - 1s 1us/step\n"
          ]
        }
      ],
      "source": [
        "(train_data, train_labels), (test_data, test_labels) = reuters.load_data(num_words=10000)"
      ]
    },
    {
      "cell_type": "code",
      "execution_count": 3,
      "metadata": {
        "colab": {
          "base_uri": "https://localhost:8080/"
        },
        "id": "oVqDaOPOWJ2p",
        "outputId": "2ae0b8fb-8964-44b2-fe30-f1133f6e560a"
      },
      "outputs": [
        {
          "output_type": "stream",
          "name": "stdout",
          "text": [
            "Downloading data from https://storage.googleapis.com/tensorflow/tf-keras-datasets/reuters_word_index.json\n",
            "550378/550378 [==============================] - 1s 1us/step\n",
            "None\n",
            "None\n",
            "None\n",
            "said\n",
            "as\n",
            "a\n",
            "result\n",
            "of\n",
            "its\n",
            "december\n",
            "acquisition\n",
            "of\n",
            "space\n",
            "co\n",
            "it\n",
            "expects\n",
            "earnings\n",
            "per\n",
            "share\n",
            "in\n",
            "1987\n",
            "of\n",
            "1\n",
            "15\n",
            "to\n",
            "1\n",
            "30\n",
            "dlrs\n",
            "per\n",
            "share\n",
            "up\n",
            "from\n",
            "70\n",
            "cts\n",
            "in\n",
            "1986\n",
            "the\n",
            "company\n",
            "said\n",
            "pretax\n",
            "net\n",
            "should\n",
            "rise\n",
            "to\n",
            "nine\n",
            "to\n",
            "10\n",
            "mln\n",
            "dlrs\n",
            "from\n",
            "six\n",
            "mln\n",
            "dlrs\n",
            "in\n",
            "1986\n",
            "and\n",
            "rental\n",
            "operation\n",
            "revenues\n",
            "to\n",
            "19\n",
            "to\n",
            "22\n",
            "mln\n",
            "dlrs\n",
            "from\n",
            "12\n",
            "5\n",
            "mln\n",
            "dlrs\n",
            "it\n",
            "said\n",
            "cash\n",
            "flow\n",
            "per\n",
            "share\n",
            "this\n",
            "year\n",
            "should\n",
            "be\n",
            "2\n",
            "50\n",
            "to\n",
            "three\n",
            "dlrs\n",
            "reuter\n",
            "3\n"
          ]
        }
      ],
      "source": [
        "word_index = reuters.get_word_index()\n",
        "word_index = dict([(value, key) for (key, value) in word_index.items()])\n",
        "for _ in train_data[0]:\n",
        "    print(word_index.get(_-3))\n",
        "    # pass"
      ]
    },
    {
      "cell_type": "code",
      "execution_count": 4,
      "metadata": {
        "colab": {
          "base_uri": "https://localhost:8080/"
        },
        "id": "wB100WSFWJ2q",
        "outputId": "5cdc1c9d-a2d2-46a9-da75-8b06c8d8ac66"
      },
      "outputs": [
        {
          "output_type": "execute_result",
          "data": {
            "text/plain": [
              "3"
            ]
          },
          "metadata": {},
          "execution_count": 4
        }
      ],
      "source": [
        "train_labels[0]"
      ]
    },
    {
      "cell_type": "markdown",
      "metadata": {
        "id": "Iqvr6741WJ2r"
      },
      "source": [
        "# Transformar datos a tensores"
      ]
    },
    {
      "cell_type": "code",
      "execution_count": 5,
      "metadata": {
        "colab": {
          "base_uri": "https://localhost:8080/"
        },
        "id": "DrlR-ZHJWJ2r",
        "outputId": "9390b167-cfd9-421b-e0e1-90f4735fc8d0"
      },
      "outputs": [
        {
          "output_type": "execute_result",
          "data": {
            "text/plain": [
              "((8982,), (2246,))"
            ]
          },
          "metadata": {},
          "execution_count": 5
        }
      ],
      "source": [
        "train_data.shape, test_data.shape\n",
        "# No son tensores"
      ]
    },
    {
      "cell_type": "code",
      "execution_count": 6,
      "metadata": {
        "colab": {
          "base_uri": "https://localhost:8080/"
        },
        "id": "m18K0gVIWJ2r",
        "outputId": "9b124594-a798-482c-c35a-1f279fd12688"
      },
      "outputs": [
        {
          "output_type": "execute_result",
          "data": {
            "text/plain": [
              "((8982, 10000), (2246, 10000))"
            ]
          },
          "metadata": {},
          "execution_count": 6
        }
      ],
      "source": [
        "def vectorizar(sequences, dim=10000):\n",
        "    result = np.zeros((len(sequences), dim))\n",
        "    for i, sequences in enumerate(sequences):\n",
        "        result[i, sequences]=1\n",
        "    return result\n",
        "\n",
        "x_train = vectorizar(train_data)\n",
        "x_test = vectorizar(test_data)\n",
        "# Son tensores\n",
        "x_train.shape, x_test.shape"
      ]
    },
    {
      "cell_type": "code",
      "execution_count": 7,
      "metadata": {
        "colab": {
          "base_uri": "https://localhost:8080/"
        },
        "id": "sUHDioBYWJ2s",
        "outputId": "f3579af8-1ec7-4f06-99a7-3fd50553d75f"
      },
      "outputs": [
        {
          "output_type": "execute_result",
          "data": {
            "text/plain": [
              "4"
            ]
          },
          "metadata": {},
          "execution_count": 7
        }
      ],
      "source": [
        "from keras.utils import to_categorical\n",
        "train_labels[5]"
      ]
    },
    {
      "cell_type": "code",
      "execution_count": 8,
      "metadata": {
        "colab": {
          "base_uri": "https://localhost:8080/"
        },
        "id": "L2xBqKWBWJ2s",
        "outputId": "c8323d43-7177-49a7-f0fc-81cf489cdd60"
      },
      "outputs": [
        {
          "output_type": "execute_result",
          "data": {
            "text/plain": [
              "array([0., 0., 0., 0., 1., 0., 0., 0., 0., 0., 0., 0., 0., 0., 0., 0., 0.,\n",
              "       0., 0., 0., 0., 0., 0., 0., 0., 0., 0., 0., 0., 0., 0., 0., 0., 0.,\n",
              "       0., 0., 0., 0., 0., 0., 0., 0., 0., 0., 0., 0.], dtype=float32)"
            ]
          },
          "metadata": {},
          "execution_count": 8
        }
      ],
      "source": [
        "# Transformar a estructura de tensor\n",
        "y_train = to_categorical(train_labels)\n",
        "y_test = to_categorical(test_labels)\n",
        "y_train[5]"
      ]
    },
    {
      "cell_type": "markdown",
      "metadata": {
        "id": "FEjv3E_HWJ2t"
      },
      "source": [
        "# Crear red"
      ]
    },
    {
      "cell_type": "code",
      "execution_count": 80,
      "metadata": {
        "id": "M37Wii5dWJ2t"
      },
      "outputs": [],
      "source": [
        "from keras import regularizers\n",
        "model1 = models.Sequential()\n",
        "model1.add(layers.Dense(64, activation='relu', input_shape=(10000,))) # kernel_regularizer=regularizers.l1(0.001)))\n",
        "model1.add(layers.Dropout(0.5))\n",
        "model1.add(layers.Dense(64, activation='relu', input_shape=(10000,))) # kernel_regularizer=regularizers.l1(0.001)))\n",
        "model1.add(layers.Dropout(0.5))\n",
        "model1.add(layers.Dense(46, activation='softmax')) # softmax -> usado para clasificacion multiple\n",
        "\n",
        "model1.compile(optimizer=\"rmsprop\",\n",
        "               loss='categorical_crossentropy',\n",
        "               metrics=['accuracy'])"
      ]
    },
    {
      "cell_type": "code",
      "execution_count": 81,
      "metadata": {
        "id": "3HMA5kixWJ2t"
      },
      "outputs": [],
      "source": [
        "x_val = x_train[:1000]\n",
        "partial_x_train = x_train[1000:]\n",
        "\n",
        "y_val = y_train[:1000]\n",
        "partial_y_train = y_train[1000:]"
      ]
    },
    {
      "cell_type": "code",
      "execution_count": 82,
      "metadata": {
        "colab": {
          "base_uri": "https://localhost:8080/"
        },
        "id": "T8rFAsDAWJ2t",
        "outputId": "bec4de69-94b4-471d-9c87-dc3aa23fa124"
      },
      "outputs": [
        {
          "output_type": "stream",
          "name": "stdout",
          "text": [
            "Epoch 1/20\n",
            "16/16 [==============================] - 1s 31ms/step - loss: 3.3358 - accuracy: 0.2420 - val_loss: 2.5003 - val_accuracy: 0.5680\n",
            "Epoch 2/20\n",
            "16/16 [==============================] - 0s 18ms/step - loss: 2.3630 - accuracy: 0.4925 - val_loss: 1.7739 - val_accuracy: 0.6060\n",
            "Epoch 3/20\n",
            "16/16 [==============================] - 0s 17ms/step - loss: 1.8719 - accuracy: 0.5714 - val_loss: 1.5088 - val_accuracy: 0.6520\n",
            "Epoch 4/20\n",
            "16/16 [==============================] - 0s 19ms/step - loss: 1.6430 - accuracy: 0.6210 - val_loss: 1.4031 - val_accuracy: 0.6880\n",
            "Epoch 5/20\n",
            "16/16 [==============================] - 0s 20ms/step - loss: 1.5013 - accuracy: 0.6505 - val_loss: 1.3136 - val_accuracy: 0.6960\n",
            "Epoch 6/20\n",
            "16/16 [==============================] - 0s 17ms/step - loss: 1.4050 - accuracy: 0.6718 - val_loss: 1.2594 - val_accuracy: 0.7100\n",
            "Epoch 7/20\n",
            "16/16 [==============================] - 0s 17ms/step - loss: 1.3002 - accuracy: 0.6911 - val_loss: 1.2041 - val_accuracy: 0.7170\n",
            "Epoch 8/20\n",
            "16/16 [==============================] - 0s 20ms/step - loss: 1.2129 - accuracy: 0.7122 - val_loss: 1.1686 - val_accuracy: 0.7220\n",
            "Epoch 9/20\n",
            "16/16 [==============================] - 0s 20ms/step - loss: 1.1629 - accuracy: 0.7210 - val_loss: 1.1352 - val_accuracy: 0.7290\n",
            "Epoch 10/20\n",
            "16/16 [==============================] - 0s 19ms/step - loss: 1.0924 - accuracy: 0.7343 - val_loss: 1.1054 - val_accuracy: 0.7430\n",
            "Epoch 11/20\n",
            "16/16 [==============================] - 0s 18ms/step - loss: 1.0469 - accuracy: 0.7477 - val_loss: 1.0772 - val_accuracy: 0.7640\n",
            "Epoch 12/20\n",
            "16/16 [==============================] - 0s 20ms/step - loss: 0.9905 - accuracy: 0.7561 - val_loss: 1.0523 - val_accuracy: 0.7700\n",
            "Epoch 13/20\n",
            "16/16 [==============================] - 0s 17ms/step - loss: 0.9456 - accuracy: 0.7724 - val_loss: 1.0390 - val_accuracy: 0.7770\n",
            "Epoch 14/20\n",
            "16/16 [==============================] - 0s 20ms/step - loss: 0.9168 - accuracy: 0.7747 - val_loss: 1.0278 - val_accuracy: 0.7860\n",
            "Epoch 15/20\n",
            "16/16 [==============================] - 0s 19ms/step - loss: 0.8725 - accuracy: 0.7834 - val_loss: 1.0227 - val_accuracy: 0.7870\n",
            "Epoch 16/20\n",
            "16/16 [==============================] - 0s 17ms/step - loss: 0.8335 - accuracy: 0.7959 - val_loss: 1.0066 - val_accuracy: 0.7900\n",
            "Epoch 17/20\n",
            "16/16 [==============================] - 0s 22ms/step - loss: 0.7983 - accuracy: 0.7967 - val_loss: 1.0019 - val_accuracy: 0.7960\n",
            "Epoch 18/20\n",
            "16/16 [==============================] - 0s 26ms/step - loss: 0.7799 - accuracy: 0.8037 - val_loss: 0.9951 - val_accuracy: 0.7990\n",
            "Epoch 19/20\n",
            "16/16 [==============================] - 0s 21ms/step - loss: 0.7504 - accuracy: 0.8096 - val_loss: 1.0007 - val_accuracy: 0.8010\n",
            "Epoch 20/20\n",
            "16/16 [==============================] - 0s 25ms/step - loss: 0.7156 - accuracy: 0.8165 - val_loss: 1.0068 - val_accuracy: 0.8020\n"
          ]
        }
      ],
      "source": [
        "# Entrenamiento de modelo\n",
        "history = model1.fit(partial_x_train, partial_y_train,\n",
        "                    epochs=20,                          # Iteraciones\n",
        "                    batch_size=512,                     # lotes de datos\n",
        "                    validation_data=(x_val, y_val))"
      ]
    },
    {
      "cell_type": "code",
      "execution_count": 83,
      "metadata": {
        "colab": {
          "base_uri": "https://localhost:8080/",
          "height": 430
        },
        "id": "W9q66Mo9WJ2u",
        "outputId": "89589019-45e6-4e10-ad11-a873c0753707"
      },
      "outputs": [
        {
          "output_type": "display_data",
          "data": {
            "text/plain": [
              "<Figure size 640x480 with 1 Axes>"
            ],
            "image/png": "[encoded data removed]"
          },
          "metadata": {}
        }
      ],
      "source": [
        "history_dict = history.history\n",
        "loss_values = history_dict['loss']\n",
        "val_loss_values = history_dict['val_loss']\n",
        "\n",
        "epoch = range(1, len(history_dict['loss'])+1)\n",
        "plt.plot(epoch, history_dict['loss'], 'o', label='training')\n",
        "plt.plot(epoch, val_loss_values, '--',label='validation')\n",
        "plt.legend()\n",
        "plt.show()"
      ]
    },
    {
      "cell_type": "code",
      "source": [
        "accu_values = history_dict['accuracy']\n",
        "val_accu_values = history_dict['val_accuracy']\n",
        "\n",
        "epoch = range(1, len(history_dict['loss'])+1)\n",
        "plt.plot(epoch, accu_values, 'o', label='accuracy')\n",
        "plt.plot(epoch, val_accu_values, '--',label='val_accuracy')\n",
        "plt.legend()\n",
        "plt.show()"
      ],
      "metadata": {
        "colab": {
          "base_uri": "https://localhost:8080/",
          "height": 430
        },
        "id": "VxowXI4jZ111",
        "outputId": "e5d670da-c5fa-4e8a-bd95-40ac2d013179"
      },
      "execution_count": 84,
      "outputs": [
        {
          "output_type": "display_data",
          "data": {
            "text/plain": [
              "<Figure size 640x480 with 1 Axes>"
            ],
            "image/png": "[encoded data removed]"
          },
          "metadata": {}
        }
      ]
    },
    {
      "cell_type": "code",
      "source": [
        "model1.evaluate(x_test, y_test)"
      ],
      "metadata": {
        "colab": {
          "base_uri": "https://localhost:8080/"
        },
        "id": "PaZ7sYWLZ_SL",
        "outputId": "2f7480ae-08d4-42d8-c3e5-8d8074d1394c"
      },
      "execution_count": 85,
      "outputs": [
        {
          "output_type": "stream",
          "name": "stdout",
          "text": [
            "71/71 [==============================] - 0s 3ms/step - loss: 1.0779 - accuracy: 0.7676\n"
          ]
        },
        {
          "output_type": "execute_result",
          "data": {
            "text/plain": [
              "[1.07787024974823, 0.7675868272781372]"
            ]
          },
          "metadata": {},
          "execution_count": 85
        }
      ]
    },
    {
      "cell_type": "code",
      "source": [
        "prediction = model1.predict(x_test)"
      ],
      "metadata": {
        "colab": {
          "base_uri": "https://localhost:8080/"
        },
        "id": "m50FAkkea2nK",
        "outputId": "95114192-7438-454d-da35-90a73c5ef2d6"
      },
      "execution_count": 86,
      "outputs": [
        {
          "output_type": "stream",
          "name": "stdout",
          "text": [
            "71/71 [==============================] - 0s 2ms/step\n"
          ]
        }
      ]
    },
    {
      "cell_type": "code",
      "source": [
        "np.sum(prediction[0])"
      ],
      "metadata": {
        "colab": {
          "base_uri": "https://localhost:8080/"
        },
        "id": "x-Lpj-73a8qY",
        "outputId": "35644348-ca71-42f4-f417-8c6320afbf23"
      },
      "execution_count": 87,
      "outputs": [
        {
          "output_type": "execute_result",
          "data": {
            "text/plain": [
              "1.0000001"
            ]
          },
          "metadata": {},
          "execution_count": 87
        }
      ]
    },
    {
      "cell_type": "code",
      "source": [
        "np.argmax(prediction[0])"
      ],
      "metadata": {
        "colab": {
          "base_uri": "https://localhost:8080/"
        },
        "id": "xAFvBwF0bE9o",
        "outputId": "3ac749b5-e8b9-4616-c42c-80c7ea64c00a"
      },
      "execution_count": 88,
      "outputs": [
        {
          "output_type": "execute_result",
          "data": {
            "text/plain": [
              "3"
            ]
          },
          "metadata": {},
          "execution_count": 88
        }
      ]
    }
  ],
  "metadata": {
    "kernelspec": {
      "display_name": "Python 3",
      "name": "python3"
    },
    "language_info": {
      "codemirror_mode": {
        "name": "ipython",
        "version": 3
      },
      "file_extension": ".py",
      "mimetype": "text/x-python",
      "name": "python",
      "nbconvert_exporter": "python",
      "pygments_lexer": "ipython3",
      "version": "3.9.16"
    },
    "orig_nbformat": 4,
    "colab": {
      "provenance": [],
      "gpuType": "T4"
    },
    "accelerator": "GPU"
  },
  "nbformat": 4,
  "nbformat_minor": 0
}