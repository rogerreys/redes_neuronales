{
 "cells": [
  {
   "cell_type": "code",
   "execution_count": 1,
   "metadata": {},
   "outputs": [],
   "source": [
    "import tensorflow as tf\n",
    "from keras.datasets import fashion_mnist\n",
    "from keras.layers import Conv2D, Dropout, MaxPooling2D, Flatten, Dense\n",
    "import numpy as np\n",
    "import matplotlib.pyplot as plt"
   ]
  },
  {
   "cell_type": "code",
   "execution_count": 16,
   "metadata": {},
   "outputs": [],
   "source": [
    "(train_img, train_labels), (test_img, test_labels) = fashion_mnist.load_data()"
   ]
  },
  {
   "cell_type": "code",
   "execution_count": 17,
   "metadata": {},
   "outputs": [
    {
     "name": "stdout",
     "output_type": "stream",
     "text": [
      "(60000, 28, 28)\n"
     ]
    },
    {
     "data": {
      "text/plain": [
       "<matplotlib.image.AxesImage at 0x1ef162ed220>"
      ]
     },
     "execution_count": 17,
     "metadata": {},
     "output_type": "execute_result"
    },
    {
     "data": {
      "image/png": "[encoded data removed]",
      "text/plain": [
       "<Figure size 640x480 with 1 Axes>"
      ]
     },
     "metadata": {},
     "output_type": "display_data"
    }
   ],
   "source": [
    "print(train_img.shape)\n",
    "plt.imshow(train_img[10])"
   ]
  },
  {
   "cell_type": "code",
   "execution_count": 18,
   "metadata": {},
   "outputs": [
    {
     "name": "stdout",
     "output_type": "stream",
     "text": [
      "(60000, 28, 28) (10000, 28, 28)\n"
     ]
    }
   ],
   "source": [
    "# Conversion de datos\n",
    "train_img = train_img.astype(\"float32\")/255 # Los pixeles van de 0-255 | se transforma de 0 a 1 \n",
    "test_img = test_img.astype(\"float32\")/255 # Los pixeles van de 0-255 | se transforma de 0 a 1 \n",
    "print(train_img.shape, test_img.shape)"
   ]
  },
  {
   "cell_type": "code",
   "execution_count": 22,
   "metadata": {},
   "outputs": [
    {
     "name": "stdout",
     "output_type": "stream",
     "text": [
      "(60000, 28, 28, 1) (10000, 28, 28, 1)\n"
     ]
    }
   ],
   "source": [
    "# Cambio de forma\n",
    "train_img = train_img.reshape(train_img.shape[0],28,28,1) # 1 canal, escala de grises, 3 escala color\n",
    "test_img = test_img.reshape(test_img.shape[0],28,28,1) # 1 canal, escala de grises, 3 escala color\n",
    "print(train_img.shape, test_img.shape)"
   ]
  },
  {
   "cell_type": "code",
   "execution_count": 23,
   "metadata": {},
   "outputs": [
    {
     "name": "stdout",
     "output_type": "stream",
     "text": [
      "before cat:\n",
      " [9 0 0 3]\n",
      "after cat:\n",
      " [[0. 0. 0. 0. 0. 0. 0. 0. 0. 1.]\n",
      " [1. 0. 0. 0. 0. 0. 0. 0. 0. 0.]\n",
      " [1. 0. 0. 0. 0. 0. 0. 0. 0. 0.]\n",
      " [0. 0. 0. 1. 0. 0. 0. 0. 0. 0.]]\n"
     ]
    }
   ],
   "source": [
    "print(\"before cat:\\n\",train_labels[0:4])\n",
    "# Para estandarizar los datos con respecto a las dimensiones\n",
    "train_labels = tf.keras.utils.to_categorical(train_labels, 10) # Los lleva a 0's y 1's\n",
    "print(\"after cat:\\n\",train_labels[0:4])\n",
    "\n",
    "test_labels = tf.keras.utils.to_categorical(test_labels, 10)"
   ]
  },
  {
   "cell_type": "code",
   "execution_count": 7,
   "metadata": {},
   "outputs": [
    {
     "name": "stdout",
     "output_type": "stream",
     "text": [
      "Model: \"sequential\"\n",
      "_________________________________________________________________\n",
      " Layer (type)                Output Shape              Param #   \n",
      "=================================================================\n",
      " conv2d (Conv2D)             (None, 28, 28, 64)        320       \n",
      "                                                                 \n",
      " max_pooling2d (MaxPooling2D  (None, 14, 14, 64)       0         \n",
      " )                                                               \n",
      "                                                                 \n",
      " dropout (Dropout)           (None, 14, 14, 64)        0         \n",
      "                                                                 \n",
      " conv2d_1 (Conv2D)           (None, 14, 14, 32)        8224      \n",
      "                                                                 \n",
      " max_pooling2d_1 (MaxPooling  (None, 7, 7, 32)         0         \n",
      " 2D)                                                             \n",
      "                                                                 \n",
      " dropout_1 (Dropout)         (None, 7, 7, 32)          0         \n",
      "                                                                 \n",
      " flatten (Flatten)           (None, 1568)              0         \n",
      "                                                                 \n",
      " dense (Dense)               (None, 256)               401664    \n",
      "                                                                 \n",
      " dropout_2 (Dropout)         (None, 256)               0         \n",
      "                                                                 \n",
      " dense_1 (Dense)             (None, 10)                2570      \n",
      "                                                                 \n",
      "=================================================================\n",
      "Total params: 412,778\n",
      "Trainable params: 412,778\n",
      "Non-trainable params: 0\n",
      "_________________________________________________________________\n"
     ]
    }
   ],
   "source": [
    "# Modelo de datos\n",
    "model = tf.keras.Sequential()\n",
    "model.add(Conv2D(filters=64, kernel_size=2, padding=\"same\", activation='relu', input_shape=(28,28,1)))\n",
    "model.add(MaxPooling2D(pool_size=2))\n",
    "model.add(Dropout(0.3))\n",
    "model.add(Conv2D(filters=32, kernel_size=2, padding=\"same\", activation='relu'))\n",
    "model.add(MaxPooling2D(pool_size=2))\n",
    "model.add(Dropout(0.3))\n",
    "model.add(Flatten())\n",
    "model.add(Dense(256, activation='relu'))\n",
    "model.add(Dropout(0.5))\n",
    "model.add(Dense(10, activation='softmax'))\n",
    "model.summary()"
   ]
  },
  {
   "cell_type": "markdown",
   "metadata": {},
   "source": [
    "# Prediccion"
   ]
  },
  {
   "cell_type": "code",
   "execution_count": 10,
   "metadata": {},
   "outputs": [],
   "source": [
    "## Compilar y entrenar\n",
    "model.compile(loss='categorical_crossentropy', optimizer='rmsprop', metrics=['accuracy'])\n",
    "# model.fit(train_img, train_labels, batch_size=64, epochs=10)"
   ]
  },
  {
   "cell_type": "code",
   "execution_count": null,
   "metadata": {},
   "outputs": [],
   "source": [
    "model.evaluate(test_img, test_labels, verbose=0)"
   ]
  },
  {
   "cell_type": "markdown",
   "metadata": {},
   "source": [
    "# Callbacks: early stopping y checkpoints\n",
    "`callback →` Si no mejora el accuracy en una determinada epoca lo detiene <br>\n",
    "`checkpoint →` Si no mejora el accuracy en la epoca siguiente, no guarda el resultado y se mantiene con los pesos que mejor rindieron y lo guarda en un archivo .hdf5"
   ]
  },
  {
   "cell_type": "markdown",
   "metadata": {},
   "source": [
    "## Callback"
   ]
  },
  {
   "cell_type": "code",
   "execution_count": 11,
   "metadata": {},
   "outputs": [
    {
     "name": "stdout",
     "output_type": "stream",
     "text": [
      "Epoch 1/10\n",
      "938/938 [==============================] - 131s 136ms/step - loss: 0.5904 - accuracy: 0.7856\n",
      "Epoch 2/10\n",
      "938/938 [==============================] - 124s 133ms/step - loss: 0.4027 - accuracy: 0.8562\n",
      "Epoch 3/10\n",
      "938/938 [==============================] - 129s 138ms/step - loss: 0.3590 - accuracy: 0.8715\n",
      "Epoch 4/10\n",
      "938/938 [==============================] - 112s 119ms/step - loss: 0.3381 - accuracy: 0.8790\n",
      "Epoch 5/10\n",
      "938/938 [==============================] - 106s 113ms/step - loss: 0.3253 - accuracy: 0.8839\n",
      "Epoch 6/10\n",
      "938/938 [==============================] - 106s 113ms/step - loss: 0.3194 - accuracy: 0.8871\n",
      "Epoch 7/10\n",
      "938/938 [==============================] - 101s 108ms/step - loss: 0.3181 - accuracy: 0.8887\n",
      "Epoch 8/10\n",
      "938/938 [==============================] - 101s 108ms/step - loss: 0.3149 - accuracy: 0.8891\n",
      "Epoch 9/10\n",
      "938/938 [==============================] - 102s 109ms/step - loss: 0.3164 - accuracy: 0.8888\n"
     ]
    },
    {
     "data": {
      "text/plain": [
       "<keras.callbacks.History at 0x1ef0a6a5ca0>"
      ]
     },
     "execution_count": 11,
     "metadata": {},
     "output_type": "execute_result"
    }
   ],
   "source": [
    "early = tf.keras.callbacks.EarlyStopping(monitor='accuracy', patience=1) # Si la epoca no mejora que acabe el entrenamiento, se ubica en el .fit\n",
    "model.fit(train_img, train_labels, batch_size=64, epochs=10,\n",
    "          callbacks=[early]\n",
    "          )"
   ]
  },
  {
   "cell_type": "code",
   "execution_count": 24,
   "metadata": {},
   "outputs": [
    {
     "data": {
      "text/plain": [
       "[0.29483768343925476, 0.9031999707221985]"
      ]
     },
     "execution_count": 24,
     "metadata": {},
     "output_type": "execute_result"
    }
   ],
   "source": [
    "model.evaluate(test_img, test_labels, verbose=0)\n",
    "# test_labels.shape"
   ]
  },
  {
   "cell_type": "markdown",
   "metadata": {},
   "source": [
    "## Checkpoint"
   ]
  },
  {
   "cell_type": "code",
   "execution_count": 25,
   "metadata": {},
   "outputs": [
    {
     "name": "stdout",
     "output_type": "stream",
     "text": [
      "Epoch 1/10\n",
      "938/938 [==============================] - ETA: 0s - loss: 0.3151 - accuracy: 0.8896\n",
      "Epoch 1: accuracy improved from -inf to 0.88960, saving model to 01_red_convolucional.hdf5\n",
      "938/938 [==============================] - 119s 126ms/step - loss: 0.3151 - accuracy: 0.8896\n",
      "Epoch 2/10\n",
      "938/938 [==============================] - ETA: 0s - loss: 0.3163 - accuracy: 0.8914\n",
      "Epoch 2: accuracy improved from 0.88960 to 0.89140, saving model to 01_red_convolucional.hdf5\n",
      "938/938 [==============================] - 109s 116ms/step - loss: 0.3163 - accuracy: 0.8914\n",
      "Epoch 3/10\n",
      "938/938 [==============================] - ETA: 0s - loss: 0.3219 - accuracy: 0.8891\n",
      "Epoch 3: accuracy did not improve from 0.89140\n",
      "938/938 [==============================] - 111s 118ms/step - loss: 0.3219 - accuracy: 0.8891\n",
      "Epoch 4/10\n",
      "938/938 [==============================] - ETA: 0s - loss: 0.3211 - accuracy: 0.8892\n",
      "Epoch 4: accuracy did not improve from 0.89140\n",
      "938/938 [==============================] - 99s 105ms/step - loss: 0.3211 - accuracy: 0.8892\n",
      "Epoch 5/10\n",
      "937/938 [============================>.] - ETA: 0s - loss: 0.3204 - accuracy: 0.8904\n",
      "Epoch 5: accuracy did not improve from 0.89140\n",
      "938/938 [==============================] - 102s 108ms/step - loss: 0.3203 - accuracy: 0.8904\n",
      "Epoch 6/10\n",
      "938/938 [==============================] - ETA: 0s - loss: 0.3202 - accuracy: 0.8904\n",
      "Epoch 6: accuracy did not improve from 0.89140\n",
      "938/938 [==============================] - 98s 104ms/step - loss: 0.3202 - accuracy: 0.8904\n",
      "Epoch 7/10\n",
      "938/938 [==============================] - ETA: 0s - loss: 0.3245 - accuracy: 0.8891\n",
      "Epoch 7: accuracy did not improve from 0.89140\n",
      "938/938 [==============================] - 98s 105ms/step - loss: 0.3245 - accuracy: 0.8891\n",
      "Epoch 8/10\n",
      "937/938 [============================>.] - ETA: 0s - loss: 0.3294 - accuracy: 0.8880\n",
      "Epoch 8: accuracy did not improve from 0.89140\n",
      "938/938 [==============================] - 102s 109ms/step - loss: 0.3294 - accuracy: 0.8880\n",
      "Epoch 9/10\n",
      "938/938 [==============================] - ETA: 0s - loss: 0.3302 - accuracy: 0.8883\n",
      "Epoch 9: accuracy did not improve from 0.89140\n",
      "938/938 [==============================] - 110s 117ms/step - loss: 0.3302 - accuracy: 0.8883\n",
      "Epoch 10/10\n",
      "938/938 [==============================] - ETA: 0s - loss: 0.3305 - accuracy: 0.8884\n",
      "Epoch 10: accuracy did not improve from 0.89140\n",
      "938/938 [==============================] - 104s 111ms/step - loss: 0.3305 - accuracy: 0.8884\n",
      "313/313 [==============================] - 6s 20ms/step - loss: 0.3094 - accuracy: 0.9026\n"
     ]
    },
    {
     "data": {
      "text/plain": [
       "[0.30935269594192505, 0.9025999903678894]"
      ]
     },
     "execution_count": 25,
     "metadata": {},
     "output_type": "execute_result"
    }
   ],
   "source": [
    "checkpoint = tf.keras.callbacks.ModelCheckpoint(filepath=\"01_red_convolucional.hdf5\", \n",
    "                                   verbose=1,\n",
    "                                   monitor='accuracy',\n",
    "                                   save_best_only=True)\n",
    "model.fit(train_img, train_labels, batch_size=64, epochs=10,\n",
    "          callbacks=[checkpoint]\n",
    "          )\n",
    "\n",
    "model2 = model\n",
    "model2.load_weights('./01_red_convolucional.hdf5')\n",
    "model2.evaluate(test_img, test_labels)"
   ]
  },
  {
   "cell_type": "code",
   "execution_count": 27,
   "metadata": {},
   "outputs": [
    {
     "data": {
      "text/plain": [
       "[0.30935269594192505, 0.9025999903678894]"
      ]
     },
     "execution_count": 27,
     "metadata": {},
     "output_type": "execute_result"
    }
   ],
   "source": [
    "model2.evaluate(test_img, test_labels, verbose=0)"
   ]
  }
 ],
 "metadata": {
  "kernelspec": {
   "display_name": "py39",
   "language": "python",
   "name": "python3"
  },
  "language_info": {
   "codemirror_mode": {
    "name": "ipython",
    "version": 3
   },
   "file_extension": ".py",
   "mimetype": "text/x-python",
   "name": "python",
   "nbconvert_exporter": "python",
   "pygments_lexer": "ipython3",
   "version": "3.9.16"
  },
  "orig_nbformat": 4
 },
 "nbformat": 4,
 "nbformat_minor": 2
}
