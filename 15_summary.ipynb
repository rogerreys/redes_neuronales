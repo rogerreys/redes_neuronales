{
 "cells": [
  {
   "cell_type": "markdown",
   "metadata": {},
   "source": [
    "|Problem type|Last-layer activation|Loss function|\n",
    "|---|---|---|\n",
    "|Binary classification|sigmoid|binary_crossentropy|\n",
    "|Multiclass, single-label classification|softmax|categorical_crossentropy|\n",
    "|Multiclass, mutilabel classification|sigmoid|binary_crossentropy|\n",
    "|Regression to arbitrary values|None|mse|\n",
    "|Regression to values between 0 and 1|sigmoid|mse or binary_crossentropy|"
   ]
  },
  {
   "cell_type": "markdown",
   "metadata": {},
   "source": [
    "# Mas por aprender\n",
    "- CNN (Convolutional Neural Network)\n",
    "\n",
    "<img src=\"https://miro.medium.com/max/2340/1*Fw-ehcNBR9byHtho-Rxbtw.gif\" width=\"500px\">\n",
    "\n",
    "- NLP (Natural Language Process)\n",
    "\n",
    "<img src=\"https://i.gifer.com/O0L2.gif\" width=\"500px\">\n",
    "\n",
    "- Sequences\n",
    "- Hyper parameters tuning\n",
    "\n",
    "<img src=\"https://miro.medium.com/max/1838/0*HFHpywPyj81DBX86.gif\" width=\"500px\">\n",
    "\n",
    "- Gans (Generative Adversarial NetworkS)\n",
    "\n",
    "<img src=\"https://miro.medium.com/max/640/0*xuZJA7BHYhVtg4Vf.gif\" width=\"500px\">\n",
    "\n",
    "- LSTM (Long Short-Term Memory)\n",
    "\n",
    "<img src=\"https://miro.medium.com/max/2494/1*KxrxyB10ZbOc3xjDneQdhA.gif\" width=\"500px\">\n",
    "\n",
    "- Callbacks\n",
    "- Tensorboard\n",
    "\n",
    "<img src=\"https://spinorlab.matrix.jp/en/wp-content/uploads/2019/09/tensorboard1.gif\" width=\"500px\">\n"
   ]
  }
 ],
 "metadata": {
  "language_info": {
   "name": "python"
  },
  "orig_nbformat": 4
 },
 "nbformat": 4,
 "nbformat_minor": 2
}
