{
 "cells": [
  {
   "cell_type": "markdown",
   "metadata": {},
   "source": [
    "# Manejo de los datos\n",
    "**1. Entrenamiento:** Durante el entrenamiento de una red neuronal, se utiliza un conjunto de datos conocido como conjunto de entrenamiento. Este conjunto contiene ejemplos de entrada (datos de entrada) junto con las correspondientes salidas deseadas (etiquetas). <u>La red neuronal ajusta sus pesos y parámetros internos en base a estos ejemplos para aprender a realizar la tarea específica para la cual está diseñada.</u>\n",
    "\n",
    "**2. Validación:** <u>La validación es una etapa crucial para asegurar que la red neuronal generalice bien a nuevos datos y evite el sobreajuste.</u> Se utiliza un conjunto de datos independiente llamado conjunto de validación, que no se utiliza durante el entrenamiento, para evaluar el rendimiento de la red neuronal en datos no vistos previamente. La red se evalúa en este conjunto y se monitorean métricas de rendimiento como la precisión, el error o la pérdida. La validación ayuda a ajustar los hiperparámetros de la red, como la tasa de aprendizaje o la arquitectura, para mejorar su rendimiento.\n",
    "\n",
    "**3. Test:** Una vez que se ha realizado el entrenamiento y se ha seleccionado un modelo final utilizando el conjunto de validación, se realiza la prueba final en un conjunto de datos completamente independiente llamado conjunto de prueba. <u>Este conjunto se utiliza para evaluar el rendimiento real de la red neuronal en un entorno de producción o en situaciones del mundo real. El conjunto de prueba proporciona una medida imparcial del desempeño de la red y ayuda a evaluar su capacidad de generalización.</u>\n",
    "\n",
    "<img src=\"src/img/validacion_datos.png\">"
   ]
  }
 ],
 "metadata": {
  "language_info": {
   "name": "python"
  },
  "orig_nbformat": 4
 },
 "nbformat": 4,
 "nbformat_minor": 2
}
