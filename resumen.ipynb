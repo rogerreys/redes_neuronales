{
 "cells": [
  {
   "cell_type": "markdown",
   "metadata": {},
   "source": [
    "1. Batch normalization funciona normalizando los datos al momento de ser recibidos unicamente en la capa de entrada o input. Esto es:\n",
    "<br> `RES:` Falso\n",
    "\n",
    "2. ¿En qué ruta se encuentra ImageDataGenerator?\n",
    "<br> `RES:` keras.preprocessing.image.ImageDataGenerator()\n",
    "\n",
    "3. ¿Qué debo hacer para definir un checkpoint en el entrenamiento de mi modelo en el que solo guardo el mejor modelo al evaluar loss de validation?\n",
    "<br> `RES:` tf.keras.callbacks.ModelCheckpoint( 'mi_modelo.hdf5', monitor=\"val_loss\", save_best_only=True )"
   ]
  }
 ],
 "metadata": {
  "language_info": {
   "name": "python"
  }
 },
 "nbformat": 4,
 "nbformat_minor": 2
}
