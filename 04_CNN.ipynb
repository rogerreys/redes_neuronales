{
 "cells": [
  {
   "cell_type": "markdown",
   "metadata": {},
   "source": [
    "# Padding\n",
    "\n",
    "<img src=\"./src/img/padding.png\" width=\"800px\">"
   ]
  },
  {
   "cell_type": "markdown",
   "metadata": {},
   "source": [
    "# Strides\n",
    "| Strides 1| Strides 2 |\n",
    "|---|---|\n",
    "| 7x7 → Strdies 1 → 5x5 <br> <img src=\"https://i.stack.imgur.com/LXDhu.gif\" width=\"500px\"> | 7x7 → Strdies 2 → 3x3 <br><img src=\"https://upload.wikimedia.org/wikipedia/commons/0/04/Convolution_arithmetic_-_Padding_strides.gif?20190413174630\" width=\"590px\">|\n"
   ]
  },
  {
   "cell_type": "markdown",
   "metadata": {},
   "source": [
    "# Codigo con Padding y Strides\n",
    "\n",
    "``` python\n",
    "tf.keras.layers.Conv2D(\n",
    "    filters,\n",
    "    kernel_size,\n",
    "    strides=(1,1),\n",
    "    padding=['valid','same']\n",
    ")\n",
    "```\n",
    "\n",
    "filters &emsp;&emsp; → # de filtros (cuantos kernels se usan) <br>\n",
    "kernel_size → tamaño de la matriz <br>\n",
    "strides &emsp;&ensp; → Como se desplaza en (desplazamiento en x, desplazamiento en t) <br>\n",
    "padding &ensp;&nbsp; → `same` el padding sera tan grande para que la imagen de entrada y de salida sean del mismo tamaño <br>\n",
    "&emsp;&emsp;&emsp;&emsp;&emsp;&emsp; `valid` no aplica padding"
   ]
  },
  {
   "cell_type": "markdown",
   "metadata": {},
   "source": [
    "<hr>\n",
    "\n",
    "# Pooling\n",
    "Saca el maximo o el promedio de una imagen, saca el ruido, reduce el ancho y largo\n",
    "\n",
    "<img src=\"./src/img/pooling.png\">\n",
    "\n",
    "## Ventajas\n",
    "El # de parametros se reduce exponencialmente\n",
    "\n",
    "<img src=\"./src/img/max_summary_pooling.png\">\n"
   ]
  },
  {
   "cell_type": "markdown",
   "metadata": {},
   "source": [
    "<hr>\n",
    "\n",
    "# Arquitectura CNN\n",
    "\n",
    "<img src=\"./src/img/arquitectura_cnn.png\">"
   ]
  }
 ],
 "metadata": {
  "language_info": {
   "name": "python"
  },
  "orig_nbformat": 4
 },
 "nbformat": 4,
 "nbformat_minor": 2
}
