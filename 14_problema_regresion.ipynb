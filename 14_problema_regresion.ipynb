{
 "cells": [
  {
   "cell_type": "code",
   "execution_count": 1,
   "metadata": {},
   "outputs": [],
   "source": [
    "import pandas as pd\n",
    "import numpy as np\n",
    "from keras.datasets import boston_housing\n",
    "from keras import layers, models, optimizers"
   ]
  },
  {
   "cell_type": "code",
   "execution_count": 2,
   "metadata": {},
   "outputs": [],
   "source": [
    "(train_data, train_labels), (test_data, test_labels) = boston_housing.load_data()"
   ]
  },
  {
   "cell_type": "code",
   "execution_count": 3,
   "metadata": {},
   "outputs": [
    {
     "data": {
      "text/plain": [
       "((404, 13),\n",
       " '-',\n",
       " (404,),\n",
       " '-',\n",
       " 15.2,\n",
       " '-',\n",
       " array([  1.23247,   0.     ,   8.14   ,   0.     ,   0.538  ,   6.142  ,\n",
       "         91.7    ,   3.9769 ,   4.     , 307.     ,  21.     , 396.9    ,\n",
       "         18.72   ]))"
      ]
     },
     "execution_count": 3,
     "metadata": {},
     "output_type": "execute_result"
    }
   ],
   "source": [
    "train_data.shape, '-', train_labels.shape, '-', train_labels[0], '-', train_data[0]"
   ]
  },
  {
   "cell_type": "markdown",
   "metadata": {},
   "source": [
    "# Normalizar\n",
    "Se normaliza ya que los valores del train_data son muy diferentes"
   ]
  },
  {
   "cell_type": "code",
   "execution_count": 4,
   "metadata": {},
   "outputs": [
    {
     "data": {
      "text/plain": [
       "(array([3.74511057e+00, 1.14801980e+01, 1.11044307e+01, 6.18811881e-02,\n",
       "        5.57355941e-01, 6.26708168e+00, 6.90106436e+01, 3.74027079e+00,\n",
       "        9.44059406e+00, 4.05898515e+02, 1.84759901e+01, 3.54783168e+02,\n",
       "        1.27408168e+01]),\n",
       " (13,),\n",
       " array([9.22929073e+00, 2.37382770e+01, 6.80287253e+00, 2.40939633e-01,\n",
       "        1.17147847e-01, 7.08908627e-01, 2.79060634e+01, 2.02770050e+00,\n",
       "        8.68758849e+00, 1.66168506e+02, 2.19765689e+00, 9.39946015e+01,\n",
       "        7.24556085e+00]))"
      ]
     },
     "execution_count": 4,
     "metadata": {},
     "output_type": "execute_result"
    }
   ],
   "source": [
    "mean = train_data.mean(axis=0)\n",
    "train_data = train_data - mean\n",
    "std = train_data.std(axis=0)\n",
    "train_data = train_data/std\n",
    "\n",
    "test_data = test_data - mean\n",
    "test_data = test_data/std\n",
    "mean, mean.shape, std"
   ]
  },
  {
   "cell_type": "code",
   "execution_count": 5,
   "metadata": {},
   "outputs": [
    {
     "data": {
      "text/plain": [
       "array([-0.27224633, -0.48361547, -0.43576161, -0.25683275, -0.1652266 ,\n",
       "       -0.1764426 ,  0.81306188,  0.1166983 , -0.62624905, -0.59517003,\n",
       "        1.14850044,  0.44807713,  0.8252202 ])"
      ]
     },
     "execution_count": 5,
     "metadata": {},
     "output_type": "execute_result"
    }
   ],
   "source": [
    "train_data[0]"
   ]
  },
  {
   "cell_type": "code",
   "execution_count": 15,
   "metadata": {},
   "outputs": [],
   "source": [
    "def build_model_regression(lr_var, input_data):\n",
    "    model = models.Sequential()\n",
    "    model.add(layers.Dense(64, activation='relu', input_shape=(input_data,)))\n",
    "    model.add(layers.Dense(64, activation='relu'))\n",
    "    model.add(layers.Dense(32, activation='relu'))\n",
    "    model.add(layers.Dense(16, activation='relu'))\n",
    "    model.add(layers.Dense(1)) # Capa lineal, no necesita funcion de activacion\n",
    "    # Compilar modelo\n",
    "    model.compile(optimizer=optimizers.RMSprop(lr=lr_var), loss='mse', metrics=['mae'])\n",
    "    return model"
   ]
  },
  {
   "cell_type": "code",
   "execution_count": 16,
   "metadata": {},
   "outputs": [],
   "source": [
    "# Iteracion sobre set de validacion\n",
    "k=4\n",
    "num_val_samples = len(train_data)//k\n",
    "num_epoch = 86\n",
    "all_history = []"
   ]
  },
  {
   "cell_type": "code",
   "execution_count": 17,
   "metadata": {},
   "outputs": [
    {
     "data": {
      "text/plain": [
       "202"
      ]
     },
     "execution_count": 17,
     "metadata": {},
     "output_type": "execute_result"
    }
   ],
   "source": [
    "valor = 2\n",
    "valor * num_val_samples"
   ]
  },
  {
   "cell_type": "code",
   "execution_count": 18,
   "metadata": {},
   "outputs": [
    {
     "name": "stdout",
     "output_type": "stream",
     "text": [
      "Fold:  0\n"
     ]
    },
    {
     "name": "stderr",
     "output_type": "stream",
     "text": [
      "c:\\Users\\Rreyes\\Anaconda3\\envs\\py39\\lib\\site-packages\\keras\\optimizers\\optimizer_v2\\rmsprop.py:140: UserWarning: The `lr` argument is deprecated, use `learning_rate` instead.\n",
      "  super().__init__(name, **kwargs)\n"
     ]
    },
    {
     "name": "stdout",
     "output_type": "stream",
     "text": [
      "Fold:  1\n",
      "Fold:  2\n",
      "Fold:  3\n"
     ]
    }
   ],
   "source": [
    "for i in range(k):\n",
    "    print('Fold: ', i)\n",
    "    val_data = train_data[i*num_val_samples : (i+1)*num_val_samples]\n",
    "    val_targets = train_labels[i*num_val_samples : (i+1)*num_val_samples]\n",
    "\n",
    "    partial_train_data = np.concatenate([\n",
    "        train_data[:i*num_val_samples],\n",
    "        train_data[(i+1)*num_val_samples:]\n",
    "    ], axis=0)\n",
    "\n",
    "    partial_train_targets = np.concatenate([\n",
    "        train_labels[:i*num_val_samples],\n",
    "        train_labels[(i+1)*num_val_samples:]\n",
    "    ], axis=0)\n",
    "\n",
    "    model = build_model_regression(0.001, 13)\n",
    "    history = model.fit(partial_train_data, partial_train_targets, \n",
    "                        epochs = num_epoch,\n",
    "                        batch_size=16, # take # of sample\n",
    "                        validation_data = (val_data, val_targets),\n",
    "                        verbose=0\n",
    "                        )\n",
    "    all_history.append(history.history['val_mae'])"
   ]
  },
  {
   "cell_type": "code",
   "execution_count": 10,
   "metadata": {},
   "outputs": [
    {
     "data": {
      "text/plain": [
       "500"
      ]
     },
     "execution_count": 10,
     "metadata": {},
     "output_type": "execute_result"
    }
   ],
   "source": [
    "len(all_history[0]) #, all_history.shape"
   ]
  },
  {
   "cell_type": "code",
   "execution_count": 14,
   "metadata": {},
   "outputs": [
    {
     "data": {
      "text/html": [
       "<div>\n",
       "<style scoped>\n",
       "    .dataframe tbody tr th:only-of-type {\n",
       "        vertical-align: middle;\n",
       "    }\n",
       "\n",
       "    .dataframe tbody tr th {\n",
       "        vertical-align: top;\n",
       "    }\n",
       "\n",
       "    .dataframe thead th {\n",
       "        text-align: right;\n",
       "    }\n",
       "</style>\n",
       "<table border=\"1\" class=\"dataframe\">\n",
       "  <thead>\n",
       "    <tr style=\"text-align: right;\">\n",
       "      <th></th>\n",
       "      <th>0</th>\n",
       "      <th>1</th>\n",
       "      <th>2</th>\n",
       "      <th>3</th>\n",
       "      <th>4</th>\n",
       "      <th>5</th>\n",
       "      <th>6</th>\n",
       "      <th>7</th>\n",
       "      <th>8</th>\n",
       "      <th>9</th>\n",
       "      <th>...</th>\n",
       "      <th>490</th>\n",
       "      <th>491</th>\n",
       "      <th>492</th>\n",
       "      <th>493</th>\n",
       "      <th>494</th>\n",
       "      <th>495</th>\n",
       "      <th>496</th>\n",
       "      <th>497</th>\n",
       "      <th>498</th>\n",
       "      <th>499</th>\n",
       "    </tr>\n",
       "  </thead>\n",
       "  <tbody>\n",
       "    <tr>\n",
       "      <th>0</th>\n",
       "      <td>19.230764</td>\n",
       "      <td>15.956750</td>\n",
       "      <td>11.777609</td>\n",
       "      <td>7.716180</td>\n",
       "      <td>4.984888</td>\n",
       "      <td>4.068442</td>\n",
       "      <td>3.586604</td>\n",
       "      <td>3.418650</td>\n",
       "      <td>3.227356</td>\n",
       "      <td>3.081834</td>\n",
       "      <td>...</td>\n",
       "      <td>2.275151</td>\n",
       "      <td>2.180610</td>\n",
       "      <td>2.291591</td>\n",
       "      <td>2.255949</td>\n",
       "      <td>2.318610</td>\n",
       "      <td>2.263773</td>\n",
       "      <td>2.271024</td>\n",
       "      <td>2.309588</td>\n",
       "      <td>2.172964</td>\n",
       "      <td>2.253187</td>\n",
       "    </tr>\n",
       "    <tr>\n",
       "      <th>1</th>\n",
       "      <td>18.833363</td>\n",
       "      <td>14.994183</td>\n",
       "      <td>10.358963</td>\n",
       "      <td>7.025309</td>\n",
       "      <td>5.242038</td>\n",
       "      <td>4.344861</td>\n",
       "      <td>3.736925</td>\n",
       "      <td>3.419858</td>\n",
       "      <td>3.236396</td>\n",
       "      <td>3.158445</td>\n",
       "      <td>...</td>\n",
       "      <td>3.114483</td>\n",
       "      <td>2.946495</td>\n",
       "      <td>3.069580</td>\n",
       "      <td>3.047099</td>\n",
       "      <td>2.941113</td>\n",
       "      <td>3.060998</td>\n",
       "      <td>3.159113</td>\n",
       "      <td>3.267203</td>\n",
       "      <td>3.151031</td>\n",
       "      <td>3.019681</td>\n",
       "    </tr>\n",
       "    <tr>\n",
       "      <th>2</th>\n",
       "      <td>18.621962</td>\n",
       "      <td>15.255015</td>\n",
       "      <td>10.923498</td>\n",
       "      <td>7.639626</td>\n",
       "      <td>5.837283</td>\n",
       "      <td>4.817229</td>\n",
       "      <td>4.193263</td>\n",
       "      <td>3.723631</td>\n",
       "      <td>3.401771</td>\n",
       "      <td>3.303784</td>\n",
       "      <td>...</td>\n",
       "      <td>2.720668</td>\n",
       "      <td>2.681542</td>\n",
       "      <td>2.646420</td>\n",
       "      <td>2.697246</td>\n",
       "      <td>2.709988</td>\n",
       "      <td>2.715971</td>\n",
       "      <td>2.699645</td>\n",
       "      <td>2.639695</td>\n",
       "      <td>2.642933</td>\n",
       "      <td>2.745013</td>\n",
       "    </tr>\n",
       "    <tr>\n",
       "      <th>3</th>\n",
       "      <td>21.085688</td>\n",
       "      <td>17.449398</td>\n",
       "      <td>12.760543</td>\n",
       "      <td>9.161733</td>\n",
       "      <td>7.424747</td>\n",
       "      <td>6.135283</td>\n",
       "      <td>5.249290</td>\n",
       "      <td>4.682052</td>\n",
       "      <td>4.228546</td>\n",
       "      <td>3.990954</td>\n",
       "      <td>...</td>\n",
       "      <td>2.176543</td>\n",
       "      <td>2.186292</td>\n",
       "      <td>2.104284</td>\n",
       "      <td>2.588962</td>\n",
       "      <td>2.374708</td>\n",
       "      <td>2.169191</td>\n",
       "      <td>2.071869</td>\n",
       "      <td>2.387677</td>\n",
       "      <td>2.281885</td>\n",
       "      <td>2.413305</td>\n",
       "    </tr>\n",
       "  </tbody>\n",
       "</table>\n",
       "<p>4 rows × 500 columns</p>\n",
       "</div>"
      ],
      "text/plain": [
       "         0          1          2         3         4         5         6    \\\n",
       "0  19.230764  15.956750  11.777609  7.716180  4.984888  4.068442  3.586604   \n",
       "1  18.833363  14.994183  10.358963  7.025309  5.242038  4.344861  3.736925   \n",
       "2  18.621962  15.255015  10.923498  7.639626  5.837283  4.817229  4.193263   \n",
       "3  21.085688  17.449398  12.760543  9.161733  7.424747  6.135283  5.249290   \n",
       "\n",
       "        7         8         9    ...       490       491       492       493  \\\n",
       "0  3.418650  3.227356  3.081834  ...  2.275151  2.180610  2.291591  2.255949   \n",
       "1  3.419858  3.236396  3.158445  ...  3.114483  2.946495  3.069580  3.047099   \n",
       "2  3.723631  3.401771  3.303784  ...  2.720668  2.681542  2.646420  2.697246   \n",
       "3  4.682052  4.228546  3.990954  ...  2.176543  2.186292  2.104284  2.588962   \n",
       "\n",
       "        494       495       496       497       498       499  \n",
       "0  2.318610  2.263773  2.271024  2.309588  2.172964  2.253187  \n",
       "1  2.941113  3.060998  3.159113  3.267203  3.151031  3.019681  \n",
       "2  2.709988  2.715971  2.699645  2.639695  2.642933  2.745013  \n",
       "3  2.374708  2.169191  2.071869  2.387677  2.281885  2.413305  \n",
       "\n",
       "[4 rows x 500 columns]"
      ]
     },
     "execution_count": 14,
     "metadata": {},
     "output_type": "execute_result"
    }
   ],
   "source": [
    "pd.DataFrame(all_history)\n",
    "# n iteraciones * n epoch"
   ]
  },
  {
   "cell_type": "code",
   "execution_count": 11,
   "metadata": {},
   "outputs": [
    {
     "data": {
      "text/plain": [
       "0      19.442944\n",
       "1      15.913836\n",
       "2      11.455153\n",
       "3       7.885712\n",
       "4       5.872239\n",
       "         ...    \n",
       "495     2.552483\n",
       "496     2.550413\n",
       "497     2.651041\n",
       "498     2.562203\n",
       "499     2.607797\n",
       "Length: 500, dtype: float64"
      ]
     },
     "execution_count": 11,
     "metadata": {},
     "output_type": "execute_result"
    }
   ],
   "source": [
    "all_mae_avg = pd.DataFrame(all_history).mean(axis=0)\n",
    "all_mae_avg"
   ]
  },
  {
   "cell_type": "code",
   "execution_count": 12,
   "metadata": {},
   "outputs": [],
   "source": [
    "import matplotlib.pyplot as plt\n",
    "\n",
    "# fig = plt.figure(figsize=(10, 10))\n",
    "# plt.plot(range(1, len(all_mae_avg[15:])+1), all_mae_avg[15:])\n",
    "# plt.show()"
   ]
  },
  {
   "cell_type": "code",
   "execution_count": 13,
   "metadata": {},
   "outputs": [
    {
     "name": "stdout",
     "output_type": "stream",
     "text": [
      "4/4 [==============================] - 0s 2ms/step - loss: 16.7508 - mae: 2.5997\n"
     ]
    },
    {
     "data": {
      "text/plain": [
       "[16.75077247619629, 2.599686622619629]"
      ]
     },
     "execution_count": 13,
     "metadata": {},
     "output_type": "execute_result"
    }
   ],
   "source": [
    "model.evaluate(test_data, test_labels)"
   ]
  }
 ],
 "metadata": {
  "kernelspec": {
   "display_name": "py39",
   "language": "python",
   "name": "python3"
  },
  "language_info": {
   "codemirror_mode": {
    "name": "ipython",
    "version": 3
   },
   "file_extension": ".py",
   "mimetype": "text/x-python",
   "name": "python",
   "nbconvert_exporter": "python",
   "pygments_lexer": "ipython3",
   "version": "3.9.16"
  },
  "orig_nbformat": 4
 },
 "nbformat": 4,
 "nbformat_minor": 2
}
