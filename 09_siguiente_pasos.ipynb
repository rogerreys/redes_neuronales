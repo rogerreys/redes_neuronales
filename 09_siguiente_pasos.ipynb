{
 "cells": [
  {
   "cell_type": "markdown",
   "metadata": {},
   "source": [
    "# Temas vistos\n",
    "1. Redes convolucionales\n",
    "2. kernel\n",
    "3. padding\n",
    "4. strides\n",
    "5. Pooling\n",
    "6. CNN\n",
    "7. Data augmentation\n",
    "8. batch normalization\n",
    "9. Otras mejoras\n",
    "    - Normalizacion de datos\n",
    "    - Capa de dropout\n",
    "    - Regularizacion\n",
    "    - Checkpoints\n",
    "    - Early stopping"
   ]
  },
  {
   "cell_type": "markdown",
   "metadata": {},
   "source": [
    "# Cuales son los siguientes pasos:\n",
    "- Arquitecturas mas complejas de CNN (Alexnet, VGGNet, LeNet, ResNet, etc)\n",
    "- Uso de redes preentrenadas\n",
    "- tensorBoard\n",
    "- Que ve una red convolucional\n",
    "- Inception\n"
   ]
  }
 ],
 "metadata": {
  "language_info": {
   "name": "python"
  }
 },
 "nbformat": 4,
 "nbformat_minor": 2
}
